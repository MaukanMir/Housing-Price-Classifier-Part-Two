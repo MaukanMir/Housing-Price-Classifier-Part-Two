{
 "cells": [
  {
   "cell_type": "code",
   "execution_count": 1,
   "metadata": {},
   "outputs": [],
   "source": [
    "import pandas as pd\n",
    "import numpy as np\n",
    "import seaborn as sns\n",
    "import matplotlib.pyplot as plt\n",
    "\n",
    "from sklearn.preprocessing import StandardScaler, MinMaxScaler, OneHotEncoder, LabelEncoder\n",
    "from sklearn.model_selection import train_test_split\n",
    "from sklearn.linear_model import LogisticRegression\n",
    "from sklearn.tree import DecisionTreeClassifier\n",
    "from sklearn.ensemble import RandomForestClassifier\n",
    "from sklearn.svm import SVC\n",
    "from sklearn.metrics import accuracy_score, classification_report\n",
    "from sklearn.neighbors import KNeighborsClassifier\n",
    "from sklearn.ensemble import GradientBoostingClassifier\n",
    "from sklearn.naive_bayes import GaussianNB\n",
    "from tensorflow.keras.models import Sequential\n",
    "from tensorflow.keras.layers import Dense\n",
    "from sklearn.decomposition import PCA\n",
    "from scipy.stats import entropy"
   ]
  },
  {
   "cell_type": "code",
   "execution_count": 2,
   "metadata": {},
   "outputs": [],
   "source": [
    "def run_all_models(X_train_scaled, X_test_scaled, y_train_encoded, y_test_encoded):\n",
    "    models = {\n",
    "        \"LogisticRegression\": LogisticRegression(),\n",
    "        \"SVC\": SVC(),\n",
    "        \"DecisionTreeClassifier\": DecisionTreeClassifier(random_state=42),\n",
    "        \"RandomForestClassifier\": RandomForestClassifier(random_state=42),\n",
    "        \"KNeighborsClassifier\": KNeighborsClassifier(),\n",
    "        \"GradientBoostingClassifier\": GradientBoostingClassifier(random_state=42),\n",
    "        \"GaussianNB\": GaussianNB(),\n",
    "    }\n",
    "\n",
    "    # Create an empty DataFrame to store accuracy\n",
    "    model_performance = []\n",
    "\n",
    "    for name, model in models.items():\n",
    "        model.fit(X_train_scaled, y_train_encoded)\n",
    "        predictions = model.predict(X_test_scaled)\n",
    "        accuracy = accuracy_score(y_test_encoded, predictions)\n",
    "        print(f\"{name} Accuracy:\", accuracy)\n",
    "        model_performance.append({\"Model\": name, \"Accuracy\": accuracy})\n",
    "\n",
    "    # For the Sequential model\n",
    "    sequential_model = Sequential()\n",
    "    sequential_model.add(Dense(64, input_dim=X_train_scaled.shape[1], activation='relu'))\n",
    "    sequential_model.add(Dense(32, activation='relu'))\n",
    "    sequential_model.add(Dense(1, activation='sigmoid'))\n",
    "    sequential_model.compile(loss='binary_crossentropy', optimizer='adam', metrics=['accuracy'])\n",
    "    sequential_model.fit(X_train_scaled, y_train_encoded, epochs=50, batch_size=10, verbose=0)\n",
    "    loss, accuracy = sequential_model.evaluate(X_test_scaled, y_test_encoded)\n",
    "    print(f\"Sequential Model Accuracy: {accuracy}\")\n",
    "    print(f\"Sequential Model Loss: {loss}\")\n",
    "    model_performance.append({\"Model\": \"Sequential\", \"Accuracy\": accuracy})\n",
    "\n",
    "    return pd.DataFrame(model_performance)\n",
    "\n",
    "def automate_pca(pca_components, X_train_scaled, X_test_scaled, y_train_encoded, y_test_encoded):\n",
    "  pca = PCA(n_components=pca_components)\n",
    "  X_train_pca = pca.fit_transform(X_train_scaled)\n",
    "  X_test_pca = pca.transform(X_test_scaled)\n",
    "  \n",
    "  models = run_all_models(X_train_pca, X_test_pca, y_train_encoded, y_test_encoded)\n",
    "  print(models)\n",
    "  \n",
    "def labels_to_probabilities(y):\n",
    "    values, counts = np.unique(y, return_counts=True)\n",
    "    probabilities = counts / counts.sum()\n",
    "    return probabilities\n",
    "\n",
    "def calculate_entropy(df:pd.DataFrame)-> pd.DataFrame:\n",
    "  \"\"\"_summary_\n",
    "\n",
    "  Args:\n",
    "      df (pd.DataFrame): _description_\n",
    "\n",
    "  Returns:\n",
    "      pd.DataFrame: _description_\n",
    "  \"\"\"\n",
    "\n",
    "  column_entropy_info = {}\n",
    "  for col in df.columns:\n",
    "    probabilities = labels_to_probabilities(df[col])\n",
    "    entropy_value = entropy(probabilities, base=2)\n",
    "    column_entropy_info[col] = {\n",
    "          'entropy': entropy_value\n",
    "      }\n",
    "\n",
    "  return pd.DataFrame(column_entropy_info)"
   ]
  },
  {
   "cell_type": "code",
   "execution_count": 26,
   "metadata": {},
   "outputs": [
    {
     "data": {
      "text/html": [
       "<div>\n",
       "<style scoped>\n",
       "    .dataframe tbody tr th:only-of-type {\n",
       "        vertical-align: middle;\n",
       "    }\n",
       "\n",
       "    .dataframe tbody tr th {\n",
       "        vertical-align: top;\n",
       "    }\n",
       "\n",
       "    .dataframe thead th {\n",
       "        text-align: right;\n",
       "    }\n",
       "</style>\n",
       "<table border=\"1\" class=\"dataframe\">\n",
       "  <thead>\n",
       "    <tr style=\"text-align: right;\">\n",
       "      <th></th>\n",
       "      <th>SquareFeet</th>\n",
       "      <th>Bedrooms</th>\n",
       "      <th>Bathrooms</th>\n",
       "      <th>Neighborhood</th>\n",
       "      <th>YearBuilt</th>\n",
       "      <th>Price</th>\n",
       "    </tr>\n",
       "  </thead>\n",
       "  <tbody>\n",
       "    <tr>\n",
       "      <th>0</th>\n",
       "      <td>2126</td>\n",
       "      <td>4</td>\n",
       "      <td>1</td>\n",
       "      <td>Rural</td>\n",
       "      <td>1969</td>\n",
       "      <td>215355.283618</td>\n",
       "    </tr>\n",
       "    <tr>\n",
       "      <th>1</th>\n",
       "      <td>2459</td>\n",
       "      <td>3</td>\n",
       "      <td>2</td>\n",
       "      <td>Rural</td>\n",
       "      <td>1980</td>\n",
       "      <td>195014.221626</td>\n",
       "    </tr>\n",
       "    <tr>\n",
       "      <th>2</th>\n",
       "      <td>1860</td>\n",
       "      <td>2</td>\n",
       "      <td>1</td>\n",
       "      <td>Suburb</td>\n",
       "      <td>1970</td>\n",
       "      <td>306891.012076</td>\n",
       "    </tr>\n",
       "    <tr>\n",
       "      <th>3</th>\n",
       "      <td>2294</td>\n",
       "      <td>2</td>\n",
       "      <td>1</td>\n",
       "      <td>Urban</td>\n",
       "      <td>1996</td>\n",
       "      <td>206786.787153</td>\n",
       "    </tr>\n",
       "    <tr>\n",
       "      <th>4</th>\n",
       "      <td>2130</td>\n",
       "      <td>5</td>\n",
       "      <td>2</td>\n",
       "      <td>Suburb</td>\n",
       "      <td>2001</td>\n",
       "      <td>272436.239065</td>\n",
       "    </tr>\n",
       "    <tr>\n",
       "      <th>...</th>\n",
       "      <td>...</td>\n",
       "      <td>...</td>\n",
       "      <td>...</td>\n",
       "      <td>...</td>\n",
       "      <td>...</td>\n",
       "      <td>...</td>\n",
       "    </tr>\n",
       "    <tr>\n",
       "      <th>49995</th>\n",
       "      <td>1282</td>\n",
       "      <td>5</td>\n",
       "      <td>3</td>\n",
       "      <td>Rural</td>\n",
       "      <td>1975</td>\n",
       "      <td>100080.865895</td>\n",
       "    </tr>\n",
       "    <tr>\n",
       "      <th>49996</th>\n",
       "      <td>2854</td>\n",
       "      <td>2</td>\n",
       "      <td>2</td>\n",
       "      <td>Suburb</td>\n",
       "      <td>1988</td>\n",
       "      <td>374507.656727</td>\n",
       "    </tr>\n",
       "    <tr>\n",
       "      <th>49997</th>\n",
       "      <td>2979</td>\n",
       "      <td>5</td>\n",
       "      <td>3</td>\n",
       "      <td>Suburb</td>\n",
       "      <td>1962</td>\n",
       "      <td>384110.555590</td>\n",
       "    </tr>\n",
       "    <tr>\n",
       "      <th>49998</th>\n",
       "      <td>2596</td>\n",
       "      <td>5</td>\n",
       "      <td>2</td>\n",
       "      <td>Rural</td>\n",
       "      <td>1984</td>\n",
       "      <td>380512.685957</td>\n",
       "    </tr>\n",
       "    <tr>\n",
       "      <th>49999</th>\n",
       "      <td>1572</td>\n",
       "      <td>5</td>\n",
       "      <td>3</td>\n",
       "      <td>Rural</td>\n",
       "      <td>2011</td>\n",
       "      <td>221618.583218</td>\n",
       "    </tr>\n",
       "  </tbody>\n",
       "</table>\n",
       "<p>50000 rows × 6 columns</p>\n",
       "</div>"
      ],
      "text/plain": [
       "       SquareFeet  Bedrooms  Bathrooms Neighborhood  YearBuilt          Price\n",
       "0            2126         4          1        Rural       1969  215355.283618\n",
       "1            2459         3          2        Rural       1980  195014.221626\n",
       "2            1860         2          1       Suburb       1970  306891.012076\n",
       "3            2294         2          1        Urban       1996  206786.787153\n",
       "4            2130         5          2       Suburb       2001  272436.239065\n",
       "...           ...       ...        ...          ...        ...            ...\n",
       "49995        1282         5          3        Rural       1975  100080.865895\n",
       "49996        2854         2          2       Suburb       1988  374507.656727\n",
       "49997        2979         5          3       Suburb       1962  384110.555590\n",
       "49998        2596         5          2        Rural       1984  380512.685957\n",
       "49999        1572         5          3        Rural       2011  221618.583218\n",
       "\n",
       "[50000 rows x 6 columns]"
      ]
     },
     "execution_count": 26,
     "metadata": {},
     "output_type": "execute_result"
    }
   ],
   "source": [
    "df = pd.read_csv(\"housing_price_dataset.csv\")\n",
    "df"
   ]
  },
  {
   "cell_type": "code",
   "execution_count": 27,
   "metadata": {},
   "outputs": [
    {
     "data": {
      "text/plain": [
       "SquareFeet      0\n",
       "Bedrooms        0\n",
       "Bathrooms       0\n",
       "Neighborhood    0\n",
       "YearBuilt       0\n",
       "Price           0\n",
       "dtype: int64"
      ]
     },
     "execution_count": 27,
     "metadata": {},
     "output_type": "execute_result"
    }
   ],
   "source": [
    "df.isna().sum()"
   ]
  },
  {
   "cell_type": "code",
   "execution_count": 28,
   "metadata": {},
   "outputs": [
    {
     "data": {
      "text/plain": [
       "0"
      ]
     },
     "execution_count": 28,
     "metadata": {},
     "output_type": "execute_result"
    }
   ],
   "source": [
    "df.duplicated().sum()"
   ]
  },
  {
   "cell_type": "code",
   "execution_count": 21,
   "metadata": {},
   "outputs": [
    {
     "data": {
      "text/plain": [
       "SquareFeet        int64\n",
       "Bedrooms          int64\n",
       "Bathrooms         int64\n",
       "Neighborhood     object\n",
       "YearBuilt         int64\n",
       "Price           float64\n",
       "dtype: object"
      ]
     },
     "execution_count": 21,
     "metadata": {},
     "output_type": "execute_result"
    }
   ],
   "source": [
    "df.dtypes"
   ]
  },
  {
   "cell_type": "code",
   "execution_count": 29,
   "metadata": {},
   "outputs": [
    {
     "data": {
      "text/plain": [
       "Neighborhood\n",
       "Suburb    16721\n",
       "Rural     16676\n",
       "Urban     16603\n",
       "Name: count, dtype: int64"
      ]
     },
     "execution_count": 29,
     "metadata": {},
     "output_type": "execute_result"
    }
   ],
   "source": [
    "df[\"Neighborhood\"].value_counts()"
   ]
  },
  {
   "cell_type": "code",
   "execution_count": 30,
   "metadata": {},
   "outputs": [],
   "source": [
    "neighborhood_keys = {\"Suburb\": 0, \"Rural\": 1, \"Urban\": 2}"
   ]
  },
  {
   "cell_type": "code",
   "execution_count": 31,
   "metadata": {},
   "outputs": [],
   "source": [
    "df[\"Neighborhood\"] = df[\"Neighborhood\"].apply(lambda x: neighborhood_keys[x])\n",
    "df[\"Price\"] = df[\"Price\"].apply(lambda x: 0 if x <=10000 else 1 if x>=10000 and x <=20000 else 2 if x>=20000 and x<=30000 else 3 if x>=30000 and x<=40000 else 4)"
   ]
  },
  {
   "cell_type": "code",
   "execution_count": 34,
   "metadata": {},
   "outputs": [
    {
     "data": {
      "image/png": "[encoded data removed]",
      "text/plain": [
       "<Figure size 1500x800 with 2 Axes>"
      ]
     },
     "metadata": {},
     "output_type": "display_data"
    }
   ],
   "source": [
    "plt.figure(figsize=(15,8))\n",
    "relations = df.corr()\n",
    "sns.heatmap(data=relations,annot=True)\n",
    "plt.show()"
   ]
  },
  {
   "cell_type": "code",
   "execution_count": null,
   "metadata": {},
   "outputs": [],
   "source": []
  }
 ],
 "metadata": {
  "kernelspec": {
   "display_name": "Python 3",
   "language": "python",
   "name": "python3"
  },
  "language_info": {
   "codemirror_mode": {
    "name": "ipython",
    "version": 3
   },
   "file_extension": ".py",
   "mimetype": "text/x-python",
   "name": "python",
   "nbconvert_exporter": "python",
   "pygments_lexer": "ipython3",
   "version": "3.11.8"
  }
 },
 "nbformat": 4,
 "nbformat_minor": 2
}
